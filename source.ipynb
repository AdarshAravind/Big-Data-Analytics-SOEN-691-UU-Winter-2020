{
 "cells": [
  {
   "cell_type": "markdown",
   "metadata": {},
   "source": [
    "# Step1: Import necessary libraries for training, preprocessing, exploratory analysis, metrics ..."
   ]
  },
  {
   "cell_type": "code",
   "execution_count": 207,
   "metadata": {},
   "outputs": [],
   "source": [
    "import numpy as np\n",
    "import seaborn as sns\n",
    "import matplotlib.pyplot as plt\n",
    "import pandas as pd\n",
    "from scipy import stats\n",
    "from sklearn.model_selection import train_test_split\n",
    "from sklearn.linear_model import LogisticRegression\n",
    "from sklearn.neighbors import KNeighborsClassifier\n",
    "from sklearn.svm import SVC\n",
    "from sklearn.tree import DecisionTreeClassifier\n",
    "from sklearn.ensemble import RandomForestClassifier\n",
    "from sklearn.decomposition import PCA\n",
    "from sklearn.model_selection import GridSearchCV\n",
    "from sklearn.preprocessing import StandardScaler\n",
    "from sklearn.metrics import f1_score\n",
    "from sklearn.metrics import classification_report,confusion_matrix\n",
    "from sklearn.metrics import precision_score\n",
    "from sklearn.metrics import recall_score\n",
    "from sklearn.metrics import roc_curve, auc\n",
    "from warnings import filterwarnings\n",
    "filterwarnings('ignore')"
   ]
  },
  {
   "cell_type": "code",
   "execution_count": 205,
   "metadata": {},
   "outputs": [],
   "source": [
    "def plot_confusion_matrix(cm,\n",
    "                          target_names,\n",
    "                          title='Confusion matrix',\n",
    "                          cmap=None,\n",
    "                          normalize=True):\n",
    "    \"\"\"\n",
    "    given a sklearn confusion matrix (cm), make a nice plot\n",
    "\n",
    "    Citiation\n",
    "    ---------\n",
    "    http://scikit-learn.org/stable/auto_examples/model_selection/plot_confusion_matrix.html\n",
    "\n",
    "    \"\"\"\n",
    "    \n",
    "    import matplotlib.pyplot as plt\n",
    "    import numpy as np\n",
    "    import itertools\n",
    "\n",
    "    accuracy = np.trace(cm) / float(np.sum(cm))\n",
    "    misclass = 1 - accuracy\n",
    "\n",
    "    if cmap is None:\n",
    "        cmap = plt.get_cmap('Blues')\n",
    "\n",
    "    plt.figure(figsize=(8, 8))\n",
    "    plt.imshow(cm, interpolation='nearest', cmap=cmap)\n",
    "    plt.title(title)\n",
    "    plt.colorbar()\n",
    "\n",
    "    if target_names is not None:\n",
    "        tick_marks = np.arange(len(target_names))\n",
    "        plt.xticks(tick_marks, target_names, rotation=45)\n",
    "        plt.yticks(tick_marks, target_names)\n",
    "\n",
    "    if normalize:\n",
    "        cm = cm.astype('float') / cm.sum(axis=1)[:, np.newaxis]\n",
    "\n",
    "\n",
    "    thresh = cm.max() / 1.5 if normalize else cm.max() / 2\n",
    "    for i, j in itertools.product(range(cm.shape[0]), range(cm.shape[1])):\n",
    "        if normalize:\n",
    "            plt.text(j, i, \"{:0.4f}\".format(cm[i, j]),\n",
    "                     horizontalalignment=\"center\",\n",
    "                     color=\"white\" if cm[i, j] > thresh else \"black\")\n",
    "        else:\n",
    "            plt.text(j, i, \"{:,}\".format(cm[i, j]),\n",
    "                     horizontalalignment=\"center\",\n",
    "                     color=\"white\" if cm[i, j] > thresh else \"black\")\n",
    "    plt.autoscale()\n",
    "    plt.ylabel('True label')\n",
    "    plt.xlabel('Predicted label\\naccuracy={:0.4f}; misclass={:0.4f}'.format(accuracy, misclass))\n",
    "    plt.show()"
   ]
  },
  {
   "cell_type": "markdown",
   "metadata": {},
   "source": [
    "# Step2: Import data into dataframe"
   ]
  },
  {
   "cell_type": "code",
   "execution_count": 167,
   "metadata": {},
   "outputs": [],
   "source": [
    "train_features = pd.read_csv(\"./train/X_train.txt\",header=None, delimiter=r\"\\s+\")\n",
    "test_features  = pd.read_csv(\"./test/X_test.txt\",header=None, delimiter=r\"\\s+\")"
   ]
  },
  {
   "cell_type": "code",
   "execution_count": 169,
   "metadata": {},
   "outputs": [
    {
     "name": "stdout",
     "output_type": "stream",
     "text": [
      "<class 'pandas.core.frame.DataFrame'>\n",
      "RangeIndex: 7352 entries, 0 to 7351\n",
      "Columns: 561 entries, 0 to 560\n",
      "dtypes: float64(561)\n",
      "memory usage: 31.5 MB\n"
     ]
    }
   ],
   "source": [
    "train_features.info()"
   ]
  },
  {
   "cell_type": "code",
   "execution_count": 171,
   "metadata": {},
   "outputs": [
    {
     "name": "stdout",
     "output_type": "stream",
     "text": [
      "<class 'pandas.core.frame.DataFrame'>\n",
      "RangeIndex: 2947 entries, 0 to 2946\n",
      "Columns: 561 entries, 0 to 560\n",
      "dtypes: float64(561)\n",
      "memory usage: 12.6 MB\n"
     ]
    }
   ],
   "source": [
    "test_features.info()"
   ]
  },
  {
   "cell_type": "code",
   "execution_count": 172,
   "metadata": {},
   "outputs": [
    {
     "data": {
      "text/html": [
       "<div>\n",
       "<style scoped>\n",
       "    .dataframe tbody tr th:only-of-type {\n",
       "        vertical-align: middle;\n",
       "    }\n",
       "\n",
       "    .dataframe tbody tr th {\n",
       "        vertical-align: top;\n",
       "    }\n",
       "\n",
       "    .dataframe thead th {\n",
       "        text-align: right;\n",
       "    }\n",
       "</style>\n",
       "<table border=\"1\" class=\"dataframe\">\n",
       "  <thead>\n",
       "    <tr style=\"text-align: right;\">\n",
       "      <th></th>\n",
       "      <th>0</th>\n",
       "      <th>1</th>\n",
       "      <th>2</th>\n",
       "      <th>3</th>\n",
       "      <th>4</th>\n",
       "      <th>5</th>\n",
       "      <th>6</th>\n",
       "      <th>7</th>\n",
       "      <th>8</th>\n",
       "      <th>9</th>\n",
       "      <th>...</th>\n",
       "      <th>551</th>\n",
       "      <th>552</th>\n",
       "      <th>553</th>\n",
       "      <th>554</th>\n",
       "      <th>555</th>\n",
       "      <th>556</th>\n",
       "      <th>557</th>\n",
       "      <th>558</th>\n",
       "      <th>559</th>\n",
       "      <th>560</th>\n",
       "    </tr>\n",
       "  </thead>\n",
       "  <tbody>\n",
       "    <tr>\n",
       "      <th>count</th>\n",
       "      <td>7352.000000</td>\n",
       "      <td>7352.000000</td>\n",
       "      <td>7352.000000</td>\n",
       "      <td>7352.000000</td>\n",
       "      <td>7352.000000</td>\n",
       "      <td>7352.000000</td>\n",
       "      <td>7352.000000</td>\n",
       "      <td>7352.000000</td>\n",
       "      <td>7352.000000</td>\n",
       "      <td>7352.000000</td>\n",
       "      <td>...</td>\n",
       "      <td>7352.000000</td>\n",
       "      <td>7352.000000</td>\n",
       "      <td>7352.000000</td>\n",
       "      <td>7352.000000</td>\n",
       "      <td>7352.000000</td>\n",
       "      <td>7352.000000</td>\n",
       "      <td>7352.000000</td>\n",
       "      <td>7352.000000</td>\n",
       "      <td>7352.000000</td>\n",
       "      <td>7352.000000</td>\n",
       "    </tr>\n",
       "    <tr>\n",
       "      <th>mean</th>\n",
       "      <td>0.274488</td>\n",
       "      <td>-0.017695</td>\n",
       "      <td>-0.109141</td>\n",
       "      <td>-0.605438</td>\n",
       "      <td>-0.510938</td>\n",
       "      <td>-0.604754</td>\n",
       "      <td>-0.630512</td>\n",
       "      <td>-0.526907</td>\n",
       "      <td>-0.606150</td>\n",
       "      <td>-0.468604</td>\n",
       "      <td>...</td>\n",
       "      <td>0.125293</td>\n",
       "      <td>-0.307009</td>\n",
       "      <td>-0.625294</td>\n",
       "      <td>0.008684</td>\n",
       "      <td>0.002186</td>\n",
       "      <td>0.008726</td>\n",
       "      <td>-0.005981</td>\n",
       "      <td>-0.489547</td>\n",
       "      <td>0.058593</td>\n",
       "      <td>-0.056515</td>\n",
       "    </tr>\n",
       "    <tr>\n",
       "      <th>std</th>\n",
       "      <td>0.070261</td>\n",
       "      <td>0.040811</td>\n",
       "      <td>0.056635</td>\n",
       "      <td>0.448734</td>\n",
       "      <td>0.502645</td>\n",
       "      <td>0.418687</td>\n",
       "      <td>0.424073</td>\n",
       "      <td>0.485942</td>\n",
       "      <td>0.414122</td>\n",
       "      <td>0.544547</td>\n",
       "      <td>...</td>\n",
       "      <td>0.250994</td>\n",
       "      <td>0.321011</td>\n",
       "      <td>0.307584</td>\n",
       "      <td>0.336787</td>\n",
       "      <td>0.448306</td>\n",
       "      <td>0.608303</td>\n",
       "      <td>0.477975</td>\n",
       "      <td>0.511807</td>\n",
       "      <td>0.297480</td>\n",
       "      <td>0.279122</td>\n",
       "    </tr>\n",
       "    <tr>\n",
       "      <th>min</th>\n",
       "      <td>-1.000000</td>\n",
       "      <td>-1.000000</td>\n",
       "      <td>-1.000000</td>\n",
       "      <td>-1.000000</td>\n",
       "      <td>-0.999873</td>\n",
       "      <td>-1.000000</td>\n",
       "      <td>-1.000000</td>\n",
       "      <td>-1.000000</td>\n",
       "      <td>-1.000000</td>\n",
       "      <td>-1.000000</td>\n",
       "      <td>...</td>\n",
       "      <td>-1.000000</td>\n",
       "      <td>-0.995357</td>\n",
       "      <td>-0.999765</td>\n",
       "      <td>-0.976580</td>\n",
       "      <td>-1.000000</td>\n",
       "      <td>-1.000000</td>\n",
       "      <td>-1.000000</td>\n",
       "      <td>-1.000000</td>\n",
       "      <td>-1.000000</td>\n",
       "      <td>-1.000000</td>\n",
       "    </tr>\n",
       "    <tr>\n",
       "      <th>25%</th>\n",
       "      <td>0.262975</td>\n",
       "      <td>-0.024863</td>\n",
       "      <td>-0.120993</td>\n",
       "      <td>-0.992754</td>\n",
       "      <td>-0.978129</td>\n",
       "      <td>-0.980233</td>\n",
       "      <td>-0.993591</td>\n",
       "      <td>-0.978162</td>\n",
       "      <td>-0.980251</td>\n",
       "      <td>-0.936219</td>\n",
       "      <td>...</td>\n",
       "      <td>-0.023692</td>\n",
       "      <td>-0.542602</td>\n",
       "      <td>-0.845573</td>\n",
       "      <td>-0.121527</td>\n",
       "      <td>-0.289549</td>\n",
       "      <td>-0.482273</td>\n",
       "      <td>-0.376341</td>\n",
       "      <td>-0.812065</td>\n",
       "      <td>-0.017885</td>\n",
       "      <td>-0.143414</td>\n",
       "    </tr>\n",
       "    <tr>\n",
       "      <th>50%</th>\n",
       "      <td>0.277193</td>\n",
       "      <td>-0.017219</td>\n",
       "      <td>-0.108676</td>\n",
       "      <td>-0.946196</td>\n",
       "      <td>-0.851897</td>\n",
       "      <td>-0.859365</td>\n",
       "      <td>-0.950709</td>\n",
       "      <td>-0.857328</td>\n",
       "      <td>-0.857143</td>\n",
       "      <td>-0.881637</td>\n",
       "      <td>...</td>\n",
       "      <td>0.134000</td>\n",
       "      <td>-0.343685</td>\n",
       "      <td>-0.711692</td>\n",
       "      <td>0.009509</td>\n",
       "      <td>0.008943</td>\n",
       "      <td>0.008735</td>\n",
       "      <td>-0.000368</td>\n",
       "      <td>-0.709417</td>\n",
       "      <td>0.182071</td>\n",
       "      <td>0.003181</td>\n",
       "    </tr>\n",
       "    <tr>\n",
       "      <th>75%</th>\n",
       "      <td>0.288461</td>\n",
       "      <td>-0.010783</td>\n",
       "      <td>-0.097794</td>\n",
       "      <td>-0.242813</td>\n",
       "      <td>-0.034231</td>\n",
       "      <td>-0.262415</td>\n",
       "      <td>-0.292680</td>\n",
       "      <td>-0.066701</td>\n",
       "      <td>-0.265671</td>\n",
       "      <td>-0.017129</td>\n",
       "      <td>...</td>\n",
       "      <td>0.289096</td>\n",
       "      <td>-0.126979</td>\n",
       "      <td>-0.503878</td>\n",
       "      <td>0.150865</td>\n",
       "      <td>0.292861</td>\n",
       "      <td>0.506187</td>\n",
       "      <td>0.359368</td>\n",
       "      <td>-0.509079</td>\n",
       "      <td>0.248353</td>\n",
       "      <td>0.107659</td>\n",
       "    </tr>\n",
       "    <tr>\n",
       "      <th>max</th>\n",
       "      <td>1.000000</td>\n",
       "      <td>1.000000</td>\n",
       "      <td>1.000000</td>\n",
       "      <td>1.000000</td>\n",
       "      <td>0.916238</td>\n",
       "      <td>1.000000</td>\n",
       "      <td>1.000000</td>\n",
       "      <td>0.967664</td>\n",
       "      <td>1.000000</td>\n",
       "      <td>1.000000</td>\n",
       "      <td>...</td>\n",
       "      <td>0.946700</td>\n",
       "      <td>0.989538</td>\n",
       "      <td>0.956845</td>\n",
       "      <td>1.000000</td>\n",
       "      <td>1.000000</td>\n",
       "      <td>0.998702</td>\n",
       "      <td>0.996078</td>\n",
       "      <td>1.000000</td>\n",
       "      <td>0.478157</td>\n",
       "      <td>1.000000</td>\n",
       "    </tr>\n",
       "  </tbody>\n",
       "</table>\n",
       "<p>8 rows × 561 columns</p>\n",
       "</div>"
      ],
      "text/plain": [
       "               0            1            2            3            4    \\\n",
       "count  7352.000000  7352.000000  7352.000000  7352.000000  7352.000000   \n",
       "mean      0.274488    -0.017695    -0.109141    -0.605438    -0.510938   \n",
       "std       0.070261     0.040811     0.056635     0.448734     0.502645   \n",
       "min      -1.000000    -1.000000    -1.000000    -1.000000    -0.999873   \n",
       "25%       0.262975    -0.024863    -0.120993    -0.992754    -0.978129   \n",
       "50%       0.277193    -0.017219    -0.108676    -0.946196    -0.851897   \n",
       "75%       0.288461    -0.010783    -0.097794    -0.242813    -0.034231   \n",
       "max       1.000000     1.000000     1.000000     1.000000     0.916238   \n",
       "\n",
       "               5            6            7            8            9    ...  \\\n",
       "count  7352.000000  7352.000000  7352.000000  7352.000000  7352.000000  ...   \n",
       "mean     -0.604754    -0.630512    -0.526907    -0.606150    -0.468604  ...   \n",
       "std       0.418687     0.424073     0.485942     0.414122     0.544547  ...   \n",
       "min      -1.000000    -1.000000    -1.000000    -1.000000    -1.000000  ...   \n",
       "25%      -0.980233    -0.993591    -0.978162    -0.980251    -0.936219  ...   \n",
       "50%      -0.859365    -0.950709    -0.857328    -0.857143    -0.881637  ...   \n",
       "75%      -0.262415    -0.292680    -0.066701    -0.265671    -0.017129  ...   \n",
       "max       1.000000     1.000000     0.967664     1.000000     1.000000  ...   \n",
       "\n",
       "               551          552          553          554          555  \\\n",
       "count  7352.000000  7352.000000  7352.000000  7352.000000  7352.000000   \n",
       "mean      0.125293    -0.307009    -0.625294     0.008684     0.002186   \n",
       "std       0.250994     0.321011     0.307584     0.336787     0.448306   \n",
       "min      -1.000000    -0.995357    -0.999765    -0.976580    -1.000000   \n",
       "25%      -0.023692    -0.542602    -0.845573    -0.121527    -0.289549   \n",
       "50%       0.134000    -0.343685    -0.711692     0.009509     0.008943   \n",
       "75%       0.289096    -0.126979    -0.503878     0.150865     0.292861   \n",
       "max       0.946700     0.989538     0.956845     1.000000     1.000000   \n",
       "\n",
       "               556          557          558          559          560  \n",
       "count  7352.000000  7352.000000  7352.000000  7352.000000  7352.000000  \n",
       "mean      0.008726    -0.005981    -0.489547     0.058593    -0.056515  \n",
       "std       0.608303     0.477975     0.511807     0.297480     0.279122  \n",
       "min      -1.000000    -1.000000    -1.000000    -1.000000    -1.000000  \n",
       "25%      -0.482273    -0.376341    -0.812065    -0.017885    -0.143414  \n",
       "50%       0.008735    -0.000368    -0.709417     0.182071     0.003181  \n",
       "75%       0.506187     0.359368    -0.509079     0.248353     0.107659  \n",
       "max       0.998702     0.996078     1.000000     0.478157     1.000000  \n",
       "\n",
       "[8 rows x 561 columns]"
      ]
     },
     "execution_count": 172,
     "metadata": {},
     "output_type": "execute_result"
    }
   ],
   "source": [
    "train_features.describe()"
   ]
  },
  {
   "cell_type": "code",
   "execution_count": 173,
   "metadata": {},
   "outputs": [
    {
     "data": {
      "text/html": [
       "<div>\n",
       "<style scoped>\n",
       "    .dataframe tbody tr th:only-of-type {\n",
       "        vertical-align: middle;\n",
       "    }\n",
       "\n",
       "    .dataframe tbody tr th {\n",
       "        vertical-align: top;\n",
       "    }\n",
       "\n",
       "    .dataframe thead th {\n",
       "        text-align: right;\n",
       "    }\n",
       "</style>\n",
       "<table border=\"1\" class=\"dataframe\">\n",
       "  <thead>\n",
       "    <tr style=\"text-align: right;\">\n",
       "      <th></th>\n",
       "      <th>0</th>\n",
       "      <th>1</th>\n",
       "      <th>2</th>\n",
       "      <th>3</th>\n",
       "      <th>4</th>\n",
       "      <th>5</th>\n",
       "      <th>6</th>\n",
       "      <th>7</th>\n",
       "      <th>8</th>\n",
       "      <th>9</th>\n",
       "      <th>...</th>\n",
       "      <th>551</th>\n",
       "      <th>552</th>\n",
       "      <th>553</th>\n",
       "      <th>554</th>\n",
       "      <th>555</th>\n",
       "      <th>556</th>\n",
       "      <th>557</th>\n",
       "      <th>558</th>\n",
       "      <th>559</th>\n",
       "      <th>560</th>\n",
       "    </tr>\n",
       "  </thead>\n",
       "  <tbody>\n",
       "    <tr>\n",
       "      <th>count</th>\n",
       "      <td>2947.000000</td>\n",
       "      <td>2947.000000</td>\n",
       "      <td>2947.000000</td>\n",
       "      <td>2947.000000</td>\n",
       "      <td>2947.000000</td>\n",
       "      <td>2947.000000</td>\n",
       "      <td>2947.000000</td>\n",
       "      <td>2947.000000</td>\n",
       "      <td>2947.000000</td>\n",
       "      <td>2947.000000</td>\n",
       "      <td>...</td>\n",
       "      <td>2947.000000</td>\n",
       "      <td>2947.000000</td>\n",
       "      <td>2947.000000</td>\n",
       "      <td>2947.000000</td>\n",
       "      <td>2947.000000</td>\n",
       "      <td>2947.000000</td>\n",
       "      <td>2947.000000</td>\n",
       "      <td>2947.000000</td>\n",
       "      <td>2947.000000</td>\n",
       "      <td>2947.000000</td>\n",
       "    </tr>\n",
       "    <tr>\n",
       "      <th>mean</th>\n",
       "      <td>0.273996</td>\n",
       "      <td>-0.017863</td>\n",
       "      <td>-0.108386</td>\n",
       "      <td>-0.613635</td>\n",
       "      <td>-0.508330</td>\n",
       "      <td>-0.633797</td>\n",
       "      <td>-0.641278</td>\n",
       "      <td>-0.522676</td>\n",
       "      <td>-0.637038</td>\n",
       "      <td>-0.462063</td>\n",
       "      <td>...</td>\n",
       "      <td>0.130236</td>\n",
       "      <td>-0.277593</td>\n",
       "      <td>-0.598756</td>\n",
       "      <td>0.005264</td>\n",
       "      <td>0.003799</td>\n",
       "      <td>0.040029</td>\n",
       "      <td>-0.017298</td>\n",
       "      <td>-0.513923</td>\n",
       "      <td>0.074886</td>\n",
       "      <td>-0.048720</td>\n",
       "    </tr>\n",
       "    <tr>\n",
       "      <th>std</th>\n",
       "      <td>0.060570</td>\n",
       "      <td>0.025745</td>\n",
       "      <td>0.042747</td>\n",
       "      <td>0.412597</td>\n",
       "      <td>0.494269</td>\n",
       "      <td>0.362699</td>\n",
       "      <td>0.385199</td>\n",
       "      <td>0.479899</td>\n",
       "      <td>0.357753</td>\n",
       "      <td>0.523916</td>\n",
       "      <td>...</td>\n",
       "      <td>0.231018</td>\n",
       "      <td>0.317245</td>\n",
       "      <td>0.311042</td>\n",
       "      <td>0.336147</td>\n",
       "      <td>0.445077</td>\n",
       "      <td>0.634989</td>\n",
       "      <td>0.501311</td>\n",
       "      <td>0.509205</td>\n",
       "      <td>0.324300</td>\n",
       "      <td>0.241467</td>\n",
       "    </tr>\n",
       "    <tr>\n",
       "      <th>min</th>\n",
       "      <td>-0.592004</td>\n",
       "      <td>-0.362884</td>\n",
       "      <td>-0.576184</td>\n",
       "      <td>-0.999606</td>\n",
       "      <td>-1.000000</td>\n",
       "      <td>-0.998955</td>\n",
       "      <td>-0.999417</td>\n",
       "      <td>-0.999914</td>\n",
       "      <td>-0.998899</td>\n",
       "      <td>-0.952357</td>\n",
       "      <td>...</td>\n",
       "      <td>-0.785543</td>\n",
       "      <td>-1.000000</td>\n",
       "      <td>-1.000000</td>\n",
       "      <td>-1.000000</td>\n",
       "      <td>-0.993402</td>\n",
       "      <td>-0.998898</td>\n",
       "      <td>-0.991096</td>\n",
       "      <td>-0.984195</td>\n",
       "      <td>-0.913704</td>\n",
       "      <td>-0.949228</td>\n",
       "    </tr>\n",
       "    <tr>\n",
       "      <th>25%</th>\n",
       "      <td>0.262075</td>\n",
       "      <td>-0.024961</td>\n",
       "      <td>-0.121162</td>\n",
       "      <td>-0.990914</td>\n",
       "      <td>-0.973664</td>\n",
       "      <td>-0.976122</td>\n",
       "      <td>-0.992333</td>\n",
       "      <td>-0.974131</td>\n",
       "      <td>-0.975352</td>\n",
       "      <td>-0.934447</td>\n",
       "      <td>...</td>\n",
       "      <td>-0.008433</td>\n",
       "      <td>-0.517494</td>\n",
       "      <td>-0.829593</td>\n",
       "      <td>-0.130541</td>\n",
       "      <td>-0.282600</td>\n",
       "      <td>-0.518924</td>\n",
       "      <td>-0.428375</td>\n",
       "      <td>-0.829722</td>\n",
       "      <td>0.022140</td>\n",
       "      <td>-0.098485</td>\n",
       "    </tr>\n",
       "    <tr>\n",
       "      <th>50%</th>\n",
       "      <td>0.277113</td>\n",
       "      <td>-0.016967</td>\n",
       "      <td>-0.108458</td>\n",
       "      <td>-0.931214</td>\n",
       "      <td>-0.790972</td>\n",
       "      <td>-0.827534</td>\n",
       "      <td>-0.937664</td>\n",
       "      <td>-0.799907</td>\n",
       "      <td>-0.817005</td>\n",
       "      <td>-0.852659</td>\n",
       "      <td>...</td>\n",
       "      <td>0.142676</td>\n",
       "      <td>-0.311023</td>\n",
       "      <td>-0.683672</td>\n",
       "      <td>0.005188</td>\n",
       "      <td>0.006767</td>\n",
       "      <td>0.047113</td>\n",
       "      <td>-0.026726</td>\n",
       "      <td>-0.729648</td>\n",
       "      <td>0.181563</td>\n",
       "      <td>-0.010671</td>\n",
       "    </tr>\n",
       "    <tr>\n",
       "      <th>75%</th>\n",
       "      <td>0.288097</td>\n",
       "      <td>-0.010143</td>\n",
       "      <td>-0.097123</td>\n",
       "      <td>-0.267395</td>\n",
       "      <td>-0.105919</td>\n",
       "      <td>-0.311432</td>\n",
       "      <td>-0.321719</td>\n",
       "      <td>-0.133488</td>\n",
       "      <td>-0.322771</td>\n",
       "      <td>-0.009965</td>\n",
       "      <td>...</td>\n",
       "      <td>0.288320</td>\n",
       "      <td>-0.083559</td>\n",
       "      <td>-0.458332</td>\n",
       "      <td>0.146200</td>\n",
       "      <td>0.288113</td>\n",
       "      <td>0.622151</td>\n",
       "      <td>0.394387</td>\n",
       "      <td>-0.545939</td>\n",
       "      <td>0.260252</td>\n",
       "      <td>0.092373</td>\n",
       "    </tr>\n",
       "    <tr>\n",
       "      <th>max</th>\n",
       "      <td>0.671887</td>\n",
       "      <td>0.246106</td>\n",
       "      <td>0.494114</td>\n",
       "      <td>0.465299</td>\n",
       "      <td>1.000000</td>\n",
       "      <td>0.489703</td>\n",
       "      <td>0.439657</td>\n",
       "      <td>1.000000</td>\n",
       "      <td>0.427958</td>\n",
       "      <td>0.786436</td>\n",
       "      <td>...</td>\n",
       "      <td>1.000000</td>\n",
       "      <td>1.000000</td>\n",
       "      <td>1.000000</td>\n",
       "      <td>0.998898</td>\n",
       "      <td>0.986347</td>\n",
       "      <td>1.000000</td>\n",
       "      <td>1.000000</td>\n",
       "      <td>0.833180</td>\n",
       "      <td>1.000000</td>\n",
       "      <td>0.973113</td>\n",
       "    </tr>\n",
       "  </tbody>\n",
       "</table>\n",
       "<p>8 rows × 561 columns</p>\n",
       "</div>"
      ],
      "text/plain": [
       "               0            1            2            3            4    \\\n",
       "count  2947.000000  2947.000000  2947.000000  2947.000000  2947.000000   \n",
       "mean      0.273996    -0.017863    -0.108386    -0.613635    -0.508330   \n",
       "std       0.060570     0.025745     0.042747     0.412597     0.494269   \n",
       "min      -0.592004    -0.362884    -0.576184    -0.999606    -1.000000   \n",
       "25%       0.262075    -0.024961    -0.121162    -0.990914    -0.973664   \n",
       "50%       0.277113    -0.016967    -0.108458    -0.931214    -0.790972   \n",
       "75%       0.288097    -0.010143    -0.097123    -0.267395    -0.105919   \n",
       "max       0.671887     0.246106     0.494114     0.465299     1.000000   \n",
       "\n",
       "               5            6            7            8            9    ...  \\\n",
       "count  2947.000000  2947.000000  2947.000000  2947.000000  2947.000000  ...   \n",
       "mean     -0.633797    -0.641278    -0.522676    -0.637038    -0.462063  ...   \n",
       "std       0.362699     0.385199     0.479899     0.357753     0.523916  ...   \n",
       "min      -0.998955    -0.999417    -0.999914    -0.998899    -0.952357  ...   \n",
       "25%      -0.976122    -0.992333    -0.974131    -0.975352    -0.934447  ...   \n",
       "50%      -0.827534    -0.937664    -0.799907    -0.817005    -0.852659  ...   \n",
       "75%      -0.311432    -0.321719    -0.133488    -0.322771    -0.009965  ...   \n",
       "max       0.489703     0.439657     1.000000     0.427958     0.786436  ...   \n",
       "\n",
       "               551          552          553          554          555  \\\n",
       "count  2947.000000  2947.000000  2947.000000  2947.000000  2947.000000   \n",
       "mean      0.130236    -0.277593    -0.598756     0.005264     0.003799   \n",
       "std       0.231018     0.317245     0.311042     0.336147     0.445077   \n",
       "min      -0.785543    -1.000000    -1.000000    -1.000000    -0.993402   \n",
       "25%      -0.008433    -0.517494    -0.829593    -0.130541    -0.282600   \n",
       "50%       0.142676    -0.311023    -0.683672     0.005188     0.006767   \n",
       "75%       0.288320    -0.083559    -0.458332     0.146200     0.288113   \n",
       "max       1.000000     1.000000     1.000000     0.998898     0.986347   \n",
       "\n",
       "               556          557          558          559          560  \n",
       "count  2947.000000  2947.000000  2947.000000  2947.000000  2947.000000  \n",
       "mean      0.040029    -0.017298    -0.513923     0.074886    -0.048720  \n",
       "std       0.634989     0.501311     0.509205     0.324300     0.241467  \n",
       "min      -0.998898    -0.991096    -0.984195    -0.913704    -0.949228  \n",
       "25%      -0.518924    -0.428375    -0.829722     0.022140    -0.098485  \n",
       "50%       0.047113    -0.026726    -0.729648     0.181563    -0.010671  \n",
       "75%       0.622151     0.394387    -0.545939     0.260252     0.092373  \n",
       "max       1.000000     1.000000     0.833180     1.000000     0.973113  \n",
       "\n",
       "[8 rows x 561 columns]"
      ]
     },
     "execution_count": 173,
     "metadata": {},
     "output_type": "execute_result"
    }
   ],
   "source": [
    "test_features.describe()"
   ]
  },
  {
   "cell_type": "code",
   "execution_count": 174,
   "metadata": {},
   "outputs": [],
   "source": [
    "train_labels=pd.read_csv(\"./train/y_train.txt\",header=None)\n",
    "train_labels.columns=['label']\n",
    "test_labels=pd.read_csv(\"./test/y_test.txt\",header=None)\n",
    "test_labels.columns=['label']"
   ]
  },
  {
   "cell_type": "code",
   "execution_count": 175,
   "metadata": {},
   "outputs": [
    {
     "name": "stdout",
     "output_type": "stream",
     "text": [
      "<class 'pandas.core.frame.DataFrame'>\n",
      "RangeIndex: 7352 entries, 0 to 7351\n",
      "Data columns (total 1 columns):\n",
      "label    7352 non-null int64\n",
      "dtypes: int64(1)\n",
      "memory usage: 57.6 KB\n"
     ]
    }
   ],
   "source": [
    "train_labels.info()"
   ]
  },
  {
   "cell_type": "code",
   "execution_count": 176,
   "metadata": {},
   "outputs": [
    {
     "name": "stdout",
     "output_type": "stream",
     "text": [
      "<class 'pandas.core.frame.DataFrame'>\n",
      "RangeIndex: 2947 entries, 0 to 2946\n",
      "Data columns (total 1 columns):\n",
      "label    2947 non-null int64\n",
      "dtypes: int64(1)\n",
      "memory usage: 23.1 KB\n"
     ]
    }
   ],
   "source": [
    "test_labels.info()"
   ]
  },
  {
   "cell_type": "code",
   "execution_count": 177,
   "metadata": {},
   "outputs": [
    {
     "data": {
      "text/html": [
       "<div>\n",
       "<style scoped>\n",
       "    .dataframe tbody tr th:only-of-type {\n",
       "        vertical-align: middle;\n",
       "    }\n",
       "\n",
       "    .dataframe tbody tr th {\n",
       "        vertical-align: top;\n",
       "    }\n",
       "\n",
       "    .dataframe thead th {\n",
       "        text-align: right;\n",
       "    }\n",
       "</style>\n",
       "<table border=\"1\" class=\"dataframe\">\n",
       "  <thead>\n",
       "    <tr style=\"text-align: right;\">\n",
       "      <th></th>\n",
       "      <th>label</th>\n",
       "    </tr>\n",
       "  </thead>\n",
       "  <tbody>\n",
       "    <tr>\n",
       "      <th>count</th>\n",
       "      <td>7352.000000</td>\n",
       "    </tr>\n",
       "    <tr>\n",
       "      <th>mean</th>\n",
       "      <td>3.643362</td>\n",
       "    </tr>\n",
       "    <tr>\n",
       "      <th>std</th>\n",
       "      <td>1.744802</td>\n",
       "    </tr>\n",
       "    <tr>\n",
       "      <th>min</th>\n",
       "      <td>1.000000</td>\n",
       "    </tr>\n",
       "    <tr>\n",
       "      <th>25%</th>\n",
       "      <td>2.000000</td>\n",
       "    </tr>\n",
       "    <tr>\n",
       "      <th>50%</th>\n",
       "      <td>4.000000</td>\n",
       "    </tr>\n",
       "    <tr>\n",
       "      <th>75%</th>\n",
       "      <td>5.000000</td>\n",
       "    </tr>\n",
       "    <tr>\n",
       "      <th>max</th>\n",
       "      <td>6.000000</td>\n",
       "    </tr>\n",
       "  </tbody>\n",
       "</table>\n",
       "</div>"
      ],
      "text/plain": [
       "             label\n",
       "count  7352.000000\n",
       "mean      3.643362\n",
       "std       1.744802\n",
       "min       1.000000\n",
       "25%       2.000000\n",
       "50%       4.000000\n",
       "75%       5.000000\n",
       "max       6.000000"
      ]
     },
     "execution_count": 177,
     "metadata": {},
     "output_type": "execute_result"
    }
   ],
   "source": [
    "train_labels.describe()"
   ]
  },
  {
   "cell_type": "code",
   "execution_count": 178,
   "metadata": {},
   "outputs": [
    {
     "data": {
      "text/html": [
       "<div>\n",
       "<style scoped>\n",
       "    .dataframe tbody tr th:only-of-type {\n",
       "        vertical-align: middle;\n",
       "    }\n",
       "\n",
       "    .dataframe tbody tr th {\n",
       "        vertical-align: top;\n",
       "    }\n",
       "\n",
       "    .dataframe thead th {\n",
       "        text-align: right;\n",
       "    }\n",
       "</style>\n",
       "<table border=\"1\" class=\"dataframe\">\n",
       "  <thead>\n",
       "    <tr style=\"text-align: right;\">\n",
       "      <th></th>\n",
       "      <th>label</th>\n",
       "    </tr>\n",
       "  </thead>\n",
       "  <tbody>\n",
       "    <tr>\n",
       "      <th>count</th>\n",
       "      <td>2947.000000</td>\n",
       "    </tr>\n",
       "    <tr>\n",
       "      <th>mean</th>\n",
       "      <td>3.577876</td>\n",
       "    </tr>\n",
       "    <tr>\n",
       "      <th>std</th>\n",
       "      <td>1.740348</td>\n",
       "    </tr>\n",
       "    <tr>\n",
       "      <th>min</th>\n",
       "      <td>1.000000</td>\n",
       "    </tr>\n",
       "    <tr>\n",
       "      <th>25%</th>\n",
       "      <td>2.000000</td>\n",
       "    </tr>\n",
       "    <tr>\n",
       "      <th>50%</th>\n",
       "      <td>4.000000</td>\n",
       "    </tr>\n",
       "    <tr>\n",
       "      <th>75%</th>\n",
       "      <td>5.000000</td>\n",
       "    </tr>\n",
       "    <tr>\n",
       "      <th>max</th>\n",
       "      <td>6.000000</td>\n",
       "    </tr>\n",
       "  </tbody>\n",
       "</table>\n",
       "</div>"
      ],
      "text/plain": [
       "             label\n",
       "count  2947.000000\n",
       "mean      3.577876\n",
       "std       1.740348\n",
       "min       1.000000\n",
       "25%       2.000000\n",
       "50%       4.000000\n",
       "75%       5.000000\n",
       "max       6.000000"
      ]
     },
     "execution_count": 178,
     "metadata": {},
     "output_type": "execute_result"
    }
   ],
   "source": [
    "test_labels.describe()"
   ]
  },
  {
   "cell_type": "code",
   "execution_count": 179,
   "metadata": {},
   "outputs": [],
   "source": [
    "activities=['WALKING','WALKING_UPSTAIRS','WALKING_DOWNSTAIRS','SITTING','STANDING','LAYING']"
   ]
  },
  {
   "cell_type": "code",
   "execution_count": 185,
   "metadata": {},
   "outputs": [],
   "source": [
    "train_labels_copy = train_labels.copy()\n",
    "train_labels_copy['label'] = train_labels_copy['label'].apply(lambda x: activities[x - 1])\n",
    "test_labels_copy = test_labels.copy()\n",
    "test_labels_copy['label'] = test_labels_copy['label'].apply(lambda x: activities[x - 1])"
   ]
  },
  {
   "cell_type": "code",
   "execution_count": 186,
   "metadata": {},
   "outputs": [
    {
     "data": {
      "text/plain": [
       "LAYING                1407\n",
       "STANDING              1374\n",
       "SITTING               1286\n",
       "WALKING               1226\n",
       "WALKING_UPSTAIRS      1073\n",
       "WALKING_DOWNSTAIRS     986\n",
       "Name: label, dtype: int64"
      ]
     },
     "execution_count": 186,
     "metadata": {},
     "output_type": "execute_result"
    }
   ],
   "source": [
    "train_labels_copy['label'].value_counts()\n"
   ]
  },
  {
   "cell_type": "code",
   "execution_count": 187,
   "metadata": {},
   "outputs": [
    {
     "data": {
      "text/plain": [
       "LAYING                537\n",
       "STANDING              532\n",
       "WALKING               496\n",
       "SITTING               491\n",
       "WALKING_UPSTAIRS      471\n",
       "WALKING_DOWNSTAIRS    420\n",
       "Name: label, dtype: int64"
      ]
     },
     "execution_count": 187,
     "metadata": {},
     "output_type": "execute_result"
    }
   ],
   "source": [
    "test_labels_copy['label'].value_counts()"
   ]
  },
  {
   "cell_type": "code",
   "execution_count": 190,
   "metadata": {},
   "outputs": [
    {
     "data": {
      "image/png": "[encoded data removed]",
      "text/plain": [
       "<Figure size 432x288 with 1 Axes>"
      ]
     },
     "metadata": {
      "needs_background": "light"
     },
     "output_type": "display_data"
    }
   ],
   "source": [
    "fig = plt.figure()\n",
    "ax = fig.add_axes([0,0,1,1])\n",
    "axis = sns.countplot(x='label',data=train_labels_copy,)\n",
    "axis.set_xticklabels(axis.get_xticklabels(), rotation=40)\n",
    "plt.title(\"Training data count per class label\")\n",
    "plt.show()"
   ]
  },
  {
   "cell_type": "markdown",
   "metadata": {},
   "source": [
    "# Training models"
   ]
  },
  {
   "cell_type": "markdown",
   "metadata": {},
   "source": [
    "# 1. Logistic Regression"
   ]
  },
  {
   "cell_type": "code",
   "execution_count": 95,
   "metadata": {},
   "outputs": [],
   "source": [
    "#X_train, X_test, y_train, y_test = train_test_split(features, labels, test_size=0.33, random_state=0)\n"
   ]
  },
  {
   "cell_type": "code",
   "execution_count": 197,
   "metadata": {},
   "outputs": [],
   "source": [
    "lr_params = {'C':np.logspace(-1, 1, 10),\n",
    "             'max_iter':[10,100]}\n",
    "lr = LogisticRegression(solver='lbfgs')\n",
    "gridcv_lr = GridSearchCV(lr, lr_params, verbose=1, cv=3)"
   ]
  },
  {
   "cell_type": "code",
   "execution_count": 208,
   "metadata": {},
   "outputs": [
    {
     "name": "stdout",
     "output_type": "stream",
     "text": [
      "Fitting 3 folds for each of 20 candidates, totalling 60 fits\n"
     ]
    },
    {
     "name": "stderr",
     "output_type": "stream",
     "text": [
      "[Parallel(n_jobs=1)]: Using backend SequentialBackend with 1 concurrent workers.\n",
      "[Parallel(n_jobs=1)]: Done  60 out of  60 | elapsed:   39.0s finished\n"
     ]
    },
    {
     "data": {
      "text/plain": [
       "GridSearchCV(cv=3, error_score='raise-deprecating',\n",
       "             estimator=LogisticRegression(C=1.0, class_weight=None, dual=False,\n",
       "                                          fit_intercept=True,\n",
       "                                          intercept_scaling=1, l1_ratio=None,\n",
       "                                          max_iter=100, multi_class='warn',\n",
       "                                          n_jobs=None, penalty='l2',\n",
       "                                          random_state=None, solver='lbfgs',\n",
       "                                          tol=0.0001, verbose=0,\n",
       "                                          warm_start=False),\n",
       "             iid='warn', n_jobs=None,\n",
       "             param_grid={'C': array([ 0.1       ,  0.16681005,  0.27825594,  0.46415888,  0.77426368,\n",
       "        1.29154967,  2.15443469,  3.59381366,  5.9948425 , 10.        ]),\n",
       "                         'max_iter': [10, 100]},\n",
       "             pre_dispatch='2*n_jobs', refit=True, return_train_score=False,\n",
       "             scoring=None, verbose=1)"
      ]
     },
     "execution_count": 208,
     "metadata": {},
     "output_type": "execute_result"
    }
   ],
   "source": [
    "\n",
    "gridcv_lr.fit(train_features,train_labels['label'].ravel())\n"
   ]
  },
  {
   "cell_type": "code",
   "execution_count": 199,
   "metadata": {},
   "outputs": [
    {
     "data": {
      "text/plain": [
       "{'C': 10.0, 'max_iter': 100}"
      ]
     },
     "execution_count": 199,
     "metadata": {},
     "output_type": "execute_result"
    }
   ],
   "source": [
    "gridcv_lr.best_params_"
   ]
  },
  {
   "cell_type": "code",
   "execution_count": 200,
   "metadata": {},
   "outputs": [],
   "source": [
    "lr_predictions = gridcv_lr.predict(test_features)"
   ]
  },
  {
   "cell_type": "code",
   "execution_count": 201,
   "metadata": {},
   "outputs": [
    {
     "name": "stdout",
     "output_type": "stream",
     "text": [
      "              precision    recall  f1-score   support\n",
      "\n",
      "           1       0.95      1.00      0.97       496\n",
      "           2       0.98      0.95      0.96       471\n",
      "           3       1.00      0.97      0.99       420\n",
      "           4       0.98      0.87      0.92       491\n",
      "           5       0.90      0.98      0.94       532\n",
      "           6       1.00      1.00      1.00       537\n",
      "\n",
      "    accuracy                           0.96      2947\n",
      "   macro avg       0.97      0.96      0.96      2947\n",
      "weighted avg       0.96      0.96      0.96      2947\n",
      "\n"
     ]
    }
   ],
   "source": [
    "print(classification_report(test_labels,lr_predictions))"
   ]
  },
  {
   "cell_type": "code",
   "execution_count": 204,
   "metadata": {},
   "outputs": [
    {
     "data": {
      "image/png": "[encoded data removed]",
      "text/plain": [
       "<Figure size 576x576 with 2 Axes>"
      ]
     },
     "metadata": {
      "needs_background": "light"
     },
     "output_type": "display_data"
    }
   ],
   "source": [
    "plot_confusion_matrix(confusion_matrix(test_labels,lr_predictions),\n",
    "                      normalize    = False,\n",
    "                      target_names = activities,\n",
    "                      title        = \"Confusion Matrix for logistic classifier\")"
   ]
  },
  {
   "cell_type": "markdown",
   "metadata": {},
   "source": [
    "# 2. KNN"
   ]
  },
  {
   "cell_type": "code",
   "execution_count": 215,
   "metadata": {},
   "outputs": [],
   "source": [
    "knn_params = {'n_neighbors':np.array(range(9,18))}\n",
    "knn = KNeighborsClassifier()\n",
    "gridcv_knn = GridSearchCV(knn, knn_params, verbose=False, cv=3)"
   ]
  },
  {
   "cell_type": "code",
   "execution_count": 216,
   "metadata": {},
   "outputs": [
    {
     "data": {
      "text/plain": [
       "GridSearchCV(cv=3, error_score='raise-deprecating',\n",
       "             estimator=KNeighborsClassifier(algorithm='auto', leaf_size=30,\n",
       "                                            metric='minkowski',\n",
       "                                            metric_params=None, n_jobs=None,\n",
       "                                            n_neighbors=5, p=2,\n",
       "                                            weights='uniform'),\n",
       "             iid='warn', n_jobs=None,\n",
       "             param_grid={'n_neighbors': array([ 9, 10, 11, 12, 13, 14, 15, 16, 17])},\n",
       "             pre_dispatch='2*n_jobs', refit=True, return_train_score=False,\n",
       "             scoring=None, verbose=False)"
      ]
     },
     "execution_count": 216,
     "metadata": {},
     "output_type": "execute_result"
    }
   ],
   "source": [
    "\n",
    "gridcv_knn.fit(train_features,train_labels['label'].ravel())\n",
    "\n"
   ]
  },
  {
   "cell_type": "code",
   "execution_count": 217,
   "metadata": {},
   "outputs": [
    {
     "data": {
      "text/plain": [
       "{'n_neighbors': 17}"
      ]
     },
     "execution_count": 217,
     "metadata": {},
     "output_type": "execute_result"
    }
   ],
   "source": [
    "gridcv_knn.best_params_"
   ]
  },
  {
   "cell_type": "code",
   "execution_count": 218,
   "metadata": {},
   "outputs": [],
   "source": [
    "knn_predictions = gridcv_knn.predict(test_features)"
   ]
  },
  {
   "cell_type": "code",
   "execution_count": 220,
   "metadata": {},
   "outputs": [
    {
     "name": "stdout",
     "output_type": "stream",
     "text": [
      "              precision    recall  f1-score   support\n",
      "\n",
      "           1       0.85      0.98      0.91       496\n",
      "           2       0.89      0.91      0.90       471\n",
      "           3       0.96      0.77      0.85       420\n",
      "           4       0.93      0.80      0.86       491\n",
      "           5       0.84      0.94      0.89       532\n",
      "           6       1.00      1.00      1.00       537\n",
      "\n",
      "    accuracy                           0.91      2947\n",
      "   macro avg       0.91      0.90      0.90      2947\n",
      "weighted avg       0.91      0.91      0.90      2947\n",
      "\n"
     ]
    }
   ],
   "source": [
    "print(classification_report(test_labels,knn_predictions))"
   ]
  },
  {
   "cell_type": "code",
   "execution_count": 221,
   "metadata": {},
   "outputs": [
    {
     "data": {
      "image/png": "[encoded data removed]",
      "text/plain": [
       "<Figure size 576x576 with 2 Axes>"
      ]
     },
     "metadata": {
      "needs_background": "light"
     },
     "output_type": "display_data"
    }
   ],
   "source": [
    "plot_confusion_matrix(confusion_matrix(test_labels,knn_predictions),\n",
    "                      normalize    = False,\n",
    "                      target_names = activities,\n",
    "                      title        = \"Confusion Matrix for KNN\")"
   ]
  },
  {
   "cell_type": "markdown",
   "metadata": {},
   "source": [
    "# 3.Random Forest"
   ]
  },
  {
   "cell_type": "code",
   "execution_count": 222,
   "metadata": {},
   "outputs": [],
   "source": [
    "rf_params = {'n_estimators' : np.arange(10,30,10),'max_depth' : np.arange(1,6,2)}\n",
    "rf = RandomForestClassifier(random_state=0)\n",
    "gridcv_rf = GridSearchCV(rf, rf_params, verbose=False, cv=3)\n"
   ]
  },
  {
   "cell_type": "code",
   "execution_count": 223,
   "metadata": {},
   "outputs": [
    {
     "data": {
      "text/plain": [
       "GridSearchCV(cv=3, error_score='raise-deprecating',\n",
       "             estimator=RandomForestClassifier(bootstrap=True, class_weight=None,\n",
       "                                              criterion='gini', max_depth=None,\n",
       "                                              max_features='auto',\n",
       "                                              max_leaf_nodes=None,\n",
       "                                              min_impurity_decrease=0.0,\n",
       "                                              min_impurity_split=None,\n",
       "                                              min_samples_leaf=1,\n",
       "                                              min_samples_split=2,\n",
       "                                              min_weight_fraction_leaf=0.0,\n",
       "                                              n_estimators='warn', n_jobs=None,\n",
       "                                              oob_score=False, random_state=0,\n",
       "                                              verbose=0, warm_start=False),\n",
       "             iid='warn', n_jobs=None,\n",
       "             param_grid={'max_depth': array([1, 3, 5]),\n",
       "                         'n_estimators': array([10, 20])},\n",
       "             pre_dispatch='2*n_jobs', refit=True, return_train_score=False,\n",
       "             scoring=None, verbose=False)"
      ]
     },
     "execution_count": 223,
     "metadata": {},
     "output_type": "execute_result"
    }
   ],
   "source": [
    "gridcv_rf.fit(train_features,train_labels['label'].ravel())"
   ]
  },
  {
   "cell_type": "code",
   "execution_count": 224,
   "metadata": {},
   "outputs": [
    {
     "data": {
      "text/plain": [
       "{'max_depth': 5, 'n_estimators': 20}"
      ]
     },
     "execution_count": 224,
     "metadata": {},
     "output_type": "execute_result"
    }
   ],
   "source": [
    "gridcv_rf.best_params_"
   ]
  },
  {
   "cell_type": "code",
   "execution_count": 225,
   "metadata": {},
   "outputs": [],
   "source": [
    "rf_predictions = gridcv_rf.predict(test_features)"
   ]
  },
  {
   "cell_type": "code",
   "execution_count": 226,
   "metadata": {},
   "outputs": [
    {
     "name": "stdout",
     "output_type": "stream",
     "text": [
      "              precision    recall  f1-score   support\n",
      "\n",
      "           1       0.80      0.96      0.88       496\n",
      "           2       0.90      0.89      0.90       471\n",
      "           3       0.93      0.73      0.82       420\n",
      "           4       0.93      0.79      0.85       491\n",
      "           5       0.83      0.94      0.88       532\n",
      "           6       1.00      1.00      1.00       537\n",
      "\n",
      "    accuracy                           0.89      2947\n",
      "   macro avg       0.90      0.89      0.89      2947\n",
      "weighted avg       0.90      0.89      0.89      2947\n",
      "\n"
     ]
    }
   ],
   "source": [
    "print(classification_report(test_labels,rf_predictions))"
   ]
  },
  {
   "cell_type": "code",
   "execution_count": 227,
   "metadata": {},
   "outputs": [
    {
     "data": {
      "image/png": "[encoded data removed]",
      "text/plain": [
       "<Figure size 576x576 with 2 Axes>"
      ]
     },
     "metadata": {
      "needs_background": "light"
     },
     "output_type": "display_data"
    }
   ],
   "source": [
    "plot_confusion_matrix(confusion_matrix(test_labels,rf_predictions),\n",
    "                      normalize    = False,\n",
    "                      target_names = activities,\n",
    "                      title        = \"Confusion Matrix for Random Forest\")"
   ]
  },
  {
   "cell_type": "markdown",
   "metadata": {},
   "source": [
    "# 4. Final result"
   ]
  },
  {
   "cell_type": "code",
   "execution_count": 236,
   "metadata": {},
   "outputs": [],
   "source": [
    "knn_res = [gridcv_knn.score(train_features,train_labels),\n",
    "           gridcv_knn.score(test_features,test_labels),\n",
    "           precision_score(test_labels,knn_predictions,average ='weighted'),\n",
    "           recall_score(test_labels,knn_predictions,average ='weighted'),\n",
    "           f1_score(test_labels,knn_predictions,average ='weighted')]\n"
   ]
  },
  {
   "cell_type": "code",
   "execution_count": 265,
   "metadata": {},
   "outputs": [],
   "source": [
    "result = pd.DataFrame(np.array(knn_res).reshape(-1,5))"
   ]
  },
  {
   "cell_type": "code",
   "execution_count": 266,
   "metadata": {},
   "outputs": [],
   "source": [
    "lr_res = [gridcv_lr.score(train_features,train_labels),\n",
    "         gridcv_lr.score(test_features,test_labels),\n",
    "         precision_score(test_labels,lr_predictions,average ='weighted'),\n",
    "         recall_score(test_labels,lr_predictions,average ='weighted'),\n",
    "         f1_score(test_labels,lr_predictions,average ='weighted')]\n",
    "lr_res = pd.DataFrame(np.array(lr_res).reshape(-1,5))"
   ]
  },
  {
   "cell_type": "code",
   "execution_count": 267,
   "metadata": {},
   "outputs": [],
   "source": [
    "result = pd.concat([result,lr_res])"
   ]
  },
  {
   "cell_type": "code",
   "execution_count": 268,
   "metadata": {},
   "outputs": [],
   "source": [
    "rf_res = [gridcv_rf.score(train_features,train_labels),\n",
    "       gridcv_rf.score(test_features,test_labels),\n",
    "       precision_score(test_labels,rf_predictions,average ='weighted'),\n",
    "       recall_score(test_labels,rf_predictions,average ='weighted'),\n",
    "       f1_score(test_labels,rf_predictions,average ='weighted')]\n",
    "rf_res = pd.DataFrame(np.array(rf_res).reshape(-1,5))"
   ]
  },
  {
   "cell_type": "code",
   "execution_count": 269,
   "metadata": {},
   "outputs": [],
   "source": [
    "result = pd.concat([result,rf_res])"
   ]
  },
  {
   "cell_type": "code",
   "execution_count": 270,
   "metadata": {},
   "outputs": [],
   "source": [
    "lab=['Train Accuracy','Test Accuracy','Precision','Recall','F1 score']\n",
    "models =['KNN','Logistic Regression','Random Forest']\n",
    "idx=[1,2,3]\n",
    "result.index = [idx,models]\n",
    "result.columns=lab"
   ]
  },
  {
   "cell_type": "code",
   "execution_count": 271,
   "metadata": {},
   "outputs": [
    {
     "data": {
      "text/html": [
       "<div>\n",
       "<style scoped>\n",
       "    .dataframe tbody tr th:only-of-type {\n",
       "        vertical-align: middle;\n",
       "    }\n",
       "\n",
       "    .dataframe tbody tr th {\n",
       "        vertical-align: top;\n",
       "    }\n",
       "\n",
       "    .dataframe thead th {\n",
       "        text-align: right;\n",
       "    }\n",
       "</style>\n",
       "<table border=\"1\" class=\"dataframe\">\n",
       "  <thead>\n",
       "    <tr style=\"text-align: right;\">\n",
       "      <th></th>\n",
       "      <th></th>\n",
       "      <th>Train Accuracy</th>\n",
       "      <th>Test Accuracy</th>\n",
       "      <th>Precision</th>\n",
       "      <th>Recall</th>\n",
       "      <th>F1 score</th>\n",
       "    </tr>\n",
       "  </thead>\n",
       "  <tbody>\n",
       "    <tr>\n",
       "      <th>1</th>\n",
       "      <th>KNN</th>\n",
       "      <td>0.967492</td>\n",
       "      <td>0.905327</td>\n",
       "      <td>0.910584</td>\n",
       "      <td>0.905327</td>\n",
       "      <td>0.904179</td>\n",
       "    </tr>\n",
       "    <tr>\n",
       "      <th>2</th>\n",
       "      <th>Logistic Regression</th>\n",
       "      <td>0.994423</td>\n",
       "      <td>0.961995</td>\n",
       "      <td>0.963746</td>\n",
       "      <td>0.961995</td>\n",
       "      <td>0.961805</td>\n",
       "    </tr>\n",
       "    <tr>\n",
       "      <th>3</th>\n",
       "      <th>Random Forest</th>\n",
       "      <td>0.937296</td>\n",
       "      <td>0.892094</td>\n",
       "      <td>0.898754</td>\n",
       "      <td>0.892094</td>\n",
       "      <td>0.890947</td>\n",
       "    </tr>\n",
       "  </tbody>\n",
       "</table>\n",
       "</div>"
      ],
      "text/plain": [
       "                       Train Accuracy  Test Accuracy  Precision    Recall  \\\n",
       "1 KNN                        0.967492       0.905327   0.910584  0.905327   \n",
       "2 Logistic Regression        0.994423       0.961995   0.963746  0.961995   \n",
       "3 Random Forest              0.937296       0.892094   0.898754  0.892094   \n",
       "\n",
       "                       F1 score  \n",
       "1 KNN                  0.904179  \n",
       "2 Logistic Regression  0.961805  \n",
       "3 Random Forest        0.890947  "
      ]
     },
     "execution_count": 271,
     "metadata": {},
     "output_type": "execute_result"
    }
   ],
   "source": [
    "result"
   ]
  },
  {
   "cell_type": "code",
   "execution_count": null,
   "metadata": {},
   "outputs": [],
   "source": []
  }
 ],
 "metadata": {
  "kernelspec": {
   "display_name": "Python 3",
   "language": "python",
   "name": "python3"
  },
  "language_info": {
   "codemirror_mode": {
    "name": "ipython",
    "version": 3
   },
   "file_extension": ".py",
   "mimetype": "text/x-python",
   "name": "python",
   "nbconvert_exporter": "python",
   "pygments_lexer": "ipython3",
   "version": "3.7.4"
  }
 },
 "nbformat": 4,
 "nbformat_minor": 2
}
